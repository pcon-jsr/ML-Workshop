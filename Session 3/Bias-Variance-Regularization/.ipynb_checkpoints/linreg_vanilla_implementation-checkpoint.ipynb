{
 "cells": [
  {
   "cell_type": "code",
   "execution_count": 1,
   "metadata": {},
   "outputs": [],
   "source": [
    "# Vanilla Implementation of Linear regression using numpy to vectorize it"
   ]
  },
  {
   "cell_type": "code",
   "execution_count": 2,
   "metadata": {},
   "outputs": [],
   "source": [
    "import numpy as np\n",
    "import pandas as pd # to import dataset\n",
    "import matplotlib.pyplot as plt # to plot model"
   ]
  },
  {
   "cell_type": "code",
   "execution_count": 6,
   "metadata": {},
   "outputs": [],
   "source": [
    "# importing the excel dataset file using pandas\n",
    "df = pd.read_excel('sat.xls')"
   ]
  },
  {
   "cell_type": "code",
   "execution_count": 8,
   "metadata": {},
   "outputs": [],
   "source": [
    "# Separating the input and output\n",
    "\n",
    "train_input = df['comp_GPA']\n",
    "y = df['univ_GPA']\n"
   ]
  },
  {
   "cell_type": "code",
   "execution_count": 10,
   "metadata": {},
   "outputs": [],
   "source": [
    "# n=1 m=105. Initialising theta randomly\n",
    "\n",
    "theta = np.random.normal(size = (2,1))"
   ]
  },
  {
   "cell_type": "code",
   "execution_count": 11,
   "metadata": {},
   "outputs": [],
   "source": [
    "# creating the training input array appenind ones as x0 = 1 for all.\n",
    "\n",
    "x = np.column_stack((np.ones(len(df)),train_input))"
   ]
  },
  {
   "cell_type": "code",
   "execution_count": 12,
   "metadata": {},
   "outputs": [],
   "source": [
    "# hypothesis\n",
    "\n",
    "h = np.matmul(x,theta)"
   ]
  },
  {
   "cell_type": "code",
   "execution_count": 13,
   "metadata": {},
   "outputs": [],
   "source": [
    "# loss function\n",
    "\n",
    "j = np.sum(0.5*(np.square(h - y)))"
   ]
  },
  {
   "cell_type": "raw",
   "metadata": {},
   "source": []
  },
  {
   "cell_type": "code",
   "execution_count": 14,
   "metadata": {},
   "outputs": [
    {
     "name": "stdout",
     "output_type": "stream",
     "text": [
      "Loss is 205.452459567in iteration : 0\n",
      "Loss is 38.2049534758in iteration : 1\n",
      "Loss is 8.48010430187in iteration : 2\n",
      "Loss is 3.19575032645in iteration : 3\n",
      "Loss is 2.25495891716in iteration : 4\n",
      "Loss is 2.08610837861in iteration : 5\n",
      "Loss is 2.05445101411in iteration : 6\n",
      "Loss is 2.04717961681in iteration : 7\n",
      "Loss is 2.04424610913in iteration : 8\n",
      "Loss is 2.04208754207in iteration : 9\n",
      "Loss is 2.04007069944in iteration : 10\n",
      "Loss is 2.03808303643in iteration : 11\n",
      "Loss is 2.03610454187in iteration : 12\n",
      "Loss is 2.03413164962in iteration : 13\n",
      "Loss is 2.03216371621in iteration : 14\n",
      "Loss is 2.03020061758in iteration : 15\n",
      "Loss is 2.02824232203in iteration : 16\n",
      "Loss is 2.02628881429in iteration : 17\n",
      "Loss is 2.02434008202in iteration : 18\n",
      "Loss is 2.02239611343in iteration : 19\n",
      "Loss is 2.02045689686in iteration : 20\n",
      "Loss is 2.01852242069in iteration : 21\n",
      "Loss is 2.01659267333in iteration : 22\n",
      "Loss is 2.01466764323in iteration : 23\n",
      "Loss is 2.01274731885in iteration : 24\n",
      "Loss is 2.01083168868in iteration : 25\n",
      "Loss is 2.00892074126in iteration : 26\n",
      "Loss is 2.00701446514in iteration : 27\n",
      "Loss is 2.00511284889in iteration : 28\n",
      "Loss is 2.00321588113in iteration : 29\n",
      "Loss is 2.00132355049in iteration : 30\n",
      "Loss is 1.99943584563in iteration : 31\n",
      "Loss is 1.99755275526in iteration : 32\n",
      "Loss is 1.99567426809in iteration : 33\n",
      "Loss is 1.99380037286in iteration : 34\n",
      "Loss is 1.99193105836in iteration : 35\n",
      "Loss is 1.99006631338in iteration : 36\n",
      "Loss is 1.98820612676in iteration : 37\n",
      "Loss is 1.98635048734in iteration : 38\n",
      "Loss is 1.98449938403in iteration : 39\n",
      "Loss is 1.98265280572in iteration : 40\n",
      "Loss is 1.98081074136in iteration : 41\n",
      "Loss is 1.97897317991in iteration : 42\n",
      "Loss is 1.97714011036in iteration : 43\n",
      "Loss is 1.97531152174in iteration : 44\n",
      "Loss is 1.97348740309in iteration : 45\n",
      "Loss is 1.97166774348in iteration : 46\n",
      "Loss is 1.96985253202in iteration : 47\n",
      "Loss is 1.96804175782in iteration : 48\n",
      "Loss is 1.96623541005in iteration : 49\n",
      "Loss is 1.96443347789in iteration : 50\n",
      "Loss is 1.96263595053in iteration : 51\n",
      "Loss is 1.96084281721in iteration : 52\n",
      "Loss is 1.9590540672in iteration : 53\n",
      "Loss is 1.95726968977in iteration : 54\n",
      "Loss is 1.95548967423in iteration : 55\n",
      "Loss is 1.95371400993in iteration : 56\n",
      "Loss is 1.95194268623in iteration : 57\n",
      "Loss is 1.95017569252in iteration : 58\n",
      "Loss is 1.9484130182in iteration : 59\n",
      "Loss is 1.94665465273in iteration : 60\n",
      "Loss is 1.94490058557in iteration : 61\n",
      "Loss is 1.94315080622in iteration : 62\n",
      "Loss is 1.94140530419in iteration : 63\n",
      "Loss is 1.93966406902in iteration : 64\n",
      "Loss is 1.93792709029in iteration : 65\n",
      "Loss is 1.93619435759in iteration : 66\n",
      "Loss is 1.93446586054in iteration : 67\n",
      "Loss is 1.93274158879in iteration : 68\n",
      "Loss is 1.931021532in iteration : 69\n",
      "Loss is 1.92930567989in iteration : 70\n",
      "Loss is 1.92759402216in iteration : 71\n",
      "Loss is 1.92588654856in iteration : 72\n",
      "Loss is 1.92418324887in iteration : 73\n",
      "Loss is 1.92248411288in iteration : 74\n",
      "Loss is 1.92078913042in iteration : 75\n",
      "Loss is 1.91909829133in iteration : 76\n",
      "Loss is 1.91741158548in iteration : 77\n",
      "Loss is 1.91572900277in iteration : 78\n",
      "Loss is 1.91405053312in iteration : 79\n",
      "Loss is 1.91237616648in iteration : 80\n",
      "Loss is 1.91070589281in iteration : 81\n",
      "Loss is 1.90903970212in iteration : 82\n",
      "Loss is 1.90737758441in iteration : 83\n",
      "Loss is 1.90571952974in iteration : 84\n",
      "Loss is 1.90406552817in iteration : 85\n",
      "Loss is 1.90241556979in iteration : 86\n",
      "Loss is 1.90076964473in iteration : 87\n",
      "Loss is 1.89912774311in iteration : 88\n",
      "Loss is 1.89748985511in iteration : 89\n",
      "Loss is 1.89585597092in iteration : 90\n",
      "Loss is 1.89422608074in iteration : 91\n",
      "Loss is 1.89260017482in iteration : 92\n",
      "Loss is 1.89097824341in iteration : 93\n",
      "Loss is 1.8893602768in iteration : 94\n",
      "Loss is 1.88774626529in iteration : 95\n",
      "Loss is 1.88613619923in iteration : 96\n",
      "Loss is 1.88453006895in iteration : 97\n",
      "Loss is 1.88292786485in iteration : 98\n",
      "Loss is 1.88132957733in iteration : 99\n"
     ]
    }
   ],
   "source": [
    "# gradient descent (batch)\n",
    "\n",
    "n_epochs = 100\n",
    "\n",
    "# I earlier set alpha to 0.1 and it was giving very weird results. \n",
    "# This was because it was overshooting the minima. So, keep this in mind.\n",
    "\n",
    "\n",
    "alpha = 0.0005\n",
    "\n",
    "for i in range(n_epochs):\n",
    "    h = np.matmul(x,theta)\n",
    "    j = np.sum(0.5*(np.square(h - y)))\n",
    "    theta = theta - alpha*(np.transpose((np.matmul(np.transpose(h-y),x))))\n",
    "    print(\"Loss is \"+str(j)+\"in iteration : \"+str(i))               "
   ]
  },
  {
   "cell_type": "code",
   "execution_count": 16,
   "metadata": {},
   "outputs": [
    {
     "data": {
      "image/png": "[encoded data removed]",
      "text/plain": [
       "<matplotlib.figure.Figure at 0x7fc01665e828>"
      ]
     },
     "metadata": {},
     "output_type": "display_data"
    }
   ],
   "source": [
    "plt.scatter(x[:,1],np.matmul(x,theta), c='g', label='Model')\n",
    "plt.scatter(x[:,1],y, c='r', label='True')\n",
    "plt.show()"
   ]
  },
  {
   "cell_type": "code",
   "execution_count": null,
   "metadata": {
    "collapsed": true
   },
   "outputs": [],
   "source": []
  }
 ],
 "metadata": {
  "kernelspec": {
   "display_name": "Python 3",
   "language": "python",
   "name": "python3"
  },
  "language_info": {
   "codemirror_mode": {
    "name": "ipython",
    "version": 3
   },
   "file_extension": ".py",
   "mimetype": "text/x-python",
   "name": "python",
   "nbconvert_exporter": "python",
   "pygments_lexer": "ipython3",
   "version": "3.6.7"
  }
 },
 "nbformat": 4,
 "nbformat_minor": 2
}
