{
 "cells": [
  {
   "cell_type": "markdown",
   "metadata": {},
   "source": [
    "# Naive Bayes\n",
    "\n",
    "## Conditional Probablility\n",
    "\n",
    "Conditional probability is a measure of the probability of an event (some particular situation occurring) given that (by assumption, presumption, assertion or evidence) another event has occurred.\n",
    "\n",
    "$$P(A|B) = \\frac{P(A\\cap B)}{P(B)} , P(B) \\neq 0$$\n",
    "\n",
    "## Independant events\n",
    "\n",
    "Two event $A$ and $B$ are said to be independant, if occurrence of one event does not effect the occurrence of another event. Mathematically,\n",
    "\n",
    "$$P(A|B) = P(A)$$\n",
    "$$P(B|A) = P(B)$$\n",
    "\n",
    "Also,\n",
    "\n",
    "$$P(A\\cap B) = P(A)P(B)$$\n",
    "\n",
    "Example : Say you rolled a die and flipped a coin. The probability of getting any number face on the die in no way influences the probability of getting a head or a tail on the coin.\n",
    "\n",
    "## Exclusive events\n",
    "\n",
    "Two events $A$ and $B$ are said to be mutually exclusive if they can't occur at the same time. Mathematically,\n",
    "\n",
    "$$P(A \\cap B) = 0$$\n",
    "\n",
    "Hence,\n",
    "\n",
    "$$P(A|B) = 0$$\n",
    "$$P(B|A) = 0$$\n",
    "\n",
    "Example : An example of mutually exclusive events are the outcomes of a fair coin flip. When you flip a fair coin, you either get a head or a tail but not both.\n",
    "\n",
    "## Bayes' Theorem\n",
    "\n",
    "Let $A_{1}, A_{2}, .. , A_{n}$ be $n$ mutually exclusive and exhaustive events, with probabilities $P(A_{i}) (i = 1..n)$. Then for any other event $B$, for which $P(B)>0$; the probability of $A_{j}$ given $B$ is,\n",
    "\n",
    "$$P(A_{j}|B) = \\frac{P(B|A_{j})P(A_{j})}{P(B)} = \\frac{P(B|A_{j})P(A_{j})}{\\sum_{i=1}^{n}P(B|A_{i})P(A_{i})} , j = 1,2..,n$$\n",
    "\n",
    "## Naive Bayes Algorithm\n",
    "\n",
    "Please open up <a href='https://en.wikipedia.org/wiki/Naive_Bayes_classifier#Probabilistic_model' >this</a>"
   ]
  },
  {
   "cell_type": "code",
   "execution_count": 26,
   "metadata": {},
   "outputs": [],
   "source": [
    "import numpy as np\n",
    "import pandas as pd\n",
    "from sklearn.naive_bayes import GaussianNB\n",
    "from sklearn.metrics import accuracy_score"
   ]
  },
  {
   "cell_type": "code",
   "execution_count": null,
   "metadata": {},
   "outputs": [],
   "source": []
  }
 ],
 "metadata": {
  "kernelspec": {
   "display_name": "Python 3",
   "language": "python",
   "name": "python3"
  },
  "language_info": {
   "codemirror_mode": {
    "name": "ipython",
    "version": 3
   },
   "file_extension": ".py",
   "mimetype": "text/x-python",
   "name": "python",
   "nbconvert_exporter": "python",
   "pygments_lexer": "ipython3",
   "version": "3.5.2"
  }
 },
 "nbformat": 4,
 "nbformat_minor": 2
}
